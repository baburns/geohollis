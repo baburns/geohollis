{
 "metadata": {
  "name": "",
  "signature": "sha256:584afa0b4025e2d2c5100cc761e36d2d8e9afad87cb302c015aa100fb1c8e717"
 },
 "nbformat": 3,
 "nbformat_minor": 0,
 "worksheets": [
  {
   "cells": [
    {
     "cell_type": "code",
     "collapsed": false,
     "input": [
      "%matplotlib inline\n",
      "import numpy as np\n",
      "import matplotlib.pyplot as plt\n",
      "import pandas as pd\n",
      "import seaborn as sns\n",
      "pd.set_option('display.width', 500)\n",
      "pd.set_option('display.max_columns', 100)\n"
     ],
     "language": "python",
     "metadata": {},
     "outputs": [],
     "prompt_number": 1
    },
    {
     "cell_type": "code",
     "collapsed": false,
     "input": [
      "import requests\n",
      "from urllib import quote\n",
      "import json"
     ],
     "language": "python",
     "metadata": {},
     "outputs": [],
     "prompt_number": 2
    },
    {
     "cell_type": "code",
     "collapsed": false,
     "input": [
      "APISTART='http://hlslwebtest.law.harvard.edu/v1/api/geo_hollis?'\n",
      "QUERY='filter=lcsh_keyword:World+War+1914-1918&filter=keyword:pub_location&limit=25'\n",
      "hollisjson=requests.get(APISTART+QUERY).json()"
     ],
     "language": "python",
     "metadata": {},
     "outputs": [],
     "prompt_number": 5
    },
    {
     "cell_type": "code",
     "collapsed": false,
     "input": [
      "print hollisjson[\"docs\"][1][\"title_sort\"] "
     ],
     "language": "python",
     "metadata": {},
     "outputs": [
      {
       "output_type": "stream",
       "stream": "stdout",
       "text": [
        "\u0130stikl\u00e2l Harbi\n"
       ]
      },
      {
       "metadata": {},
       "output_type": "pyout",
       "prompt_number": 44,
       "text": [
        "list"
       ]
      }
     ],
     "prompt_number": 44
    },
    {
     "cell_type": "code",
     "collapsed": false,
     "input": [
      "print hollisjson[\"docs\"][2][\"pub_date_numeric\"]"
     ],
     "language": "python",
     "metadata": {},
     "outputs": [
      {
       "output_type": "stream",
       "stream": "stdout",
       "text": [
        "1914\n"
       ]
      }
     ],
     "prompt_number": 7
    },
    {
     "cell_type": "code",
     "collapsed": false,
     "input": [
      "for item in hollisjson[\"docs\"]:\n",
      "    print item[\"language\"] + \" \" + item[\"pub_date_numeric\"] + \" \" + item['Conjunct_Latitude1'] + \",\" + item['Conjunct_Longitude1']"
     ],
     "language": "python",
     "metadata": {},
     "outputs": [
      {
       "output_type": "stream",
       "stream": "stdout",
       "text": [
        "Yiddish 1924 54.6833,25.3167\n",
        "Turkish 2007 41.0186,28.9647\n",
        "German 1914 51.3333,12.3333\n",
        "German 1917 52.5167,13.3833\n",
        "German 1914 48.2,16.3667\n",
        "German 1914 48.2,16.3667\n",
        "German 1914 48.2,16.3667\n",
        "Turkish 2009 39.9272,32.8644\n",
        "French 1914 48.86,2.34\n",
        "French 1922 48.86,2.34\n",
        "French 1916 48.86,2.34\n",
        "Spanish 1915 48.86,2.34\n",
        "Arabic 1984 33.3333,44.3833\n",
        "English 1914 51.05,13.7333\n",
        "German 1914 52.5167,13.3\n",
        "German 1914 52.5167,13.3833\n",
        "French 1919 48.86,2.34\n",
        "English 1918 42.3709,-71.1162\n",
        "English 1918 42.3709,-71.1162\n",
        "German 1915 41.84,-87.68\n",
        "German 1915 48.7667,9.18333\n",
        "German 1915 52.5167,13.3833\n",
        "German 1916 52.5167,13.3833\n",
        "German 1916 52.5167,13.3833\n",
        "German 1915 52.5167,13.3833\n",
        "German 1915 52.5167,13.3833\n",
        "German 1914 52.5167,13.3833\n",
        "Yiddish 1933 54.9167,24.0667\n",
        "German 1915 52.5167,13.3833\n",
        "Dutch 1999 52.0833,4.3\n",
        "Yiddish 1929 56.95,24.1\n",
        "English 1936 40.7142,-74.0064\n",
        "English 1919 40.7142,-74.0064\n",
        "English 1917 41.7637,-72.6851\n",
        "English 1917 38.6272,-90.1978\n",
        "English 1919 40.7142,-74.0064\n",
        "French 1918 48.86,2.34\n",
        "English 2001 40.7142,-74.0064\n",
        "English 1918 48.86,2.34\n",
        "English 1920 41.3082,-72.9282\n",
        "German 1918 52.5167,13.3833\n",
        "English 1918 41.84,-87.68\n",
        "English 1918 40.7142,-74.0064\n",
        "English 1918 42.6167,-78.7333\n",
        "English 1919 51.5142,-0.093145\n",
        "English 1974 40.7142,-74.0064\n",
        "English 2002 25.6,85.1167\n",
        "English 1928 38.895,-77.0367\n",
        "English 2009 40.7142,-74.0064\n",
        "English 1967 40.7142,-74.0064\n",
        "English 2004 44.4759,-73.2121\n",
        "English 2004 38.9671,-76.8619\n",
        "English 2005 38.8,-77.0333\n",
        "English 2001 34.2572,-118.601\n",
        "English 2001 34.2572,-118.601\n",
        "English 2005 38.8,-77.0333\n",
        "English 2005 38.8,-77.0333\n",
        "English 2005 38.8,-77.0333\n",
        "English 2012 38.9671,-76.8619\n",
        "English 1979 40.7142,-74.0064\n",
        "English 1967 39.2833,-76.6167\n",
        "English 2005 34.4208,-119.698\n",
        "English 2004 41.84,-87.68\n",
        "English 1962 40.7142,-74.0064\n",
        "English 1998 51.75,-1.25\n",
        "English 1998 51.75,-1.25\n",
        "English 2006 40.45,-80\n",
        "English 1918 41.84,-87.68\n",
        "English 1933 51.5142,-0.093145\n",
        "English 1939 37.1,-87.8667\n",
        "English 1985 35.9132,-79.0558\n",
        "English 1943 40.7142,-74.0064\n",
        "English 1921 41.3082,-72.9282\n",
        "English 1921 41.3082,-72.9282\n",
        "English 1944 40.7142,-74.0064\n",
        "English 1945 40.7142,-74.0064\n",
        "English 1921 41.3082,-72.9282\n",
        "English 1952 40.7142,-74.0064\n",
        "English 1987 52.2,0.116667\n",
        "English 1987 52.3333,0.083333\n",
        "English 1982 35.9132,-79.0558\n",
        "English 1985 40.7142,-74.0064\n",
        "English 1991 37.8716,-122.273\n",
        "English 1979 42.0884,-87.9806\n",
        "English 1918 40.7142,-74.0064\n",
        "English 1999 51.75,-1.25\n",
        "English 2000 53.5,-2.21667\n",
        "English 1995 40.7142,-74.0064\n",
        "English 1989 51.5142,-0.093145\n",
        "English 1918 40.7142,-74.0064\n",
        "English 1918 40.7142,-74.0064\n",
        "English 1918 39.1653,-86.5264\n",
        "English 1915 40.7142,-74.0064\n",
        "English 1918 40.7142,-74.0064\n",
        "English 1915 51.5142,-0.093145\n",
        "English 1919 41.84,-87.68\n",
        "English 1921 40.7142,-74.0064\n",
        "English 1917 41.5,-81.6667\n",
        "Polish 1987 54.3608,18.6583\n",
        "German 1919 53.15,18\n",
        "German 1916 50.9833,11.3167\n",
        "English 1916 41.3082,-72.9282\n",
        "English 1924 40.7142,-74.0064\n",
        "German 1917 48.14,11.58\n",
        "German 1918 52.5167,13.3833\n",
        "English 2002 40.7142,-74.0064\n",
        "English 1991 39.7459,-75.5466\n",
        "French 1918 46.5333,6.66667\n",
        "English 2005 40.7142,-74.0064\n",
        "English 1947 40.7142,-74.0064\n",
        "English 2008 51.75,-1.25\n",
        "English 1917 40.7142,-74.0064\n",
        "English 2003 41.84,-87.68\n"
       ]
      },
      {
       "ename": "KeyError",
       "evalue": "'pub_date_numeric'",
       "output_type": "pyerr",
       "traceback": [
        "\u001b[0;31m---------------------------------------------------------------------------\u001b[0m\n\u001b[0;31mKeyError\u001b[0m                                  Traceback (most recent call last)",
        "\u001b[0;32m<ipython-input-17-e9b66e6a109a>\u001b[0m in \u001b[0;36m<module>\u001b[0;34m()\u001b[0m\n\u001b[1;32m      1\u001b[0m \u001b[0;32mfor\u001b[0m \u001b[0mitem\u001b[0m \u001b[0;32min\u001b[0m \u001b[0mhollisjson\u001b[0m\u001b[0;34m[\u001b[0m\u001b[0;34m\"docs\"\u001b[0m\u001b[0;34m]\u001b[0m\u001b[0;34m:\u001b[0m\u001b[0;34m\u001b[0m\u001b[0m\n\u001b[0;32m----> 2\u001b[0;31m     \u001b[0;32mprint\u001b[0m \u001b[0mitem\u001b[0m\u001b[0;34m[\u001b[0m\u001b[0;34m\"language\"\u001b[0m\u001b[0;34m]\u001b[0m \u001b[0;34m+\u001b[0m \u001b[0;34m\" \"\u001b[0m \u001b[0;34m+\u001b[0m \u001b[0mitem\u001b[0m\u001b[0;34m[\u001b[0m\u001b[0;34m\"pub_date_numeric\"\u001b[0m\u001b[0;34m]\u001b[0m \u001b[0;34m+\u001b[0m \u001b[0;34m\" \"\u001b[0m \u001b[0;34m+\u001b[0m \u001b[0mitem\u001b[0m\u001b[0;34m[\u001b[0m\u001b[0;34m'Conjunct_Latitude1'\u001b[0m\u001b[0;34m]\u001b[0m \u001b[0;34m+\u001b[0m \u001b[0;34m\",\"\u001b[0m \u001b[0;34m+\u001b[0m \u001b[0mitem\u001b[0m\u001b[0;34m[\u001b[0m\u001b[0;34m'Conjunct_Longitude1'\u001b[0m\u001b[0;34m]\u001b[0m\u001b[0;34m\u001b[0m\u001b[0m\n\u001b[0m",
        "\u001b[0;31mKeyError\u001b[0m: 'pub_date_numeric'"
       ]
      }
     ],
     "prompt_number": 17
    },
    {
     "cell_type": "code",
     "collapsed": false,
     "input": [
      "h_dict={\"type\":\"FeatureCollection\",\"features\":[]}\n",
      "for item in hollisjson[\"docs\"]:\n",
      "    title=item[\"title_sort\"]\n",
      "    lang=item[\"language\"]\n",
      "    if (item.has_key('pub_date_numeric')):\n",
      "        yr=item['pub_date_numeric']\n",
      "    else:\n",
      "        yr=\"\"\n",
      "    lat=float(item['Conjunct_Latitude1'])\n",
      "    lng=float(item['Conjunct_Longitude1'])\n",
      "    i_dict={\"type\":\"Feature\",\"geometry\":{\"type\":\"point\",\"coordinates\":[lat,lng]},\"properties\":{\"title\":title,\"year\":yr,\"lang\":lang}}\n",
      "    h_dict[\"features\"].append(i_dict)\n",
      "    \n",
      "h_geojson=json.JSONEncoder().encode(h_dict)\n"
     ],
     "language": "python",
     "metadata": {},
     "outputs": [],
     "prompt_number": 75
    },
    {
     "cell_type": "code",
     "collapsed": false,
     "input": [
      "print h_dict.keys()"
     ],
     "language": "python",
     "metadata": {},
     "outputs": [
      {
       "output_type": "stream",
       "stream": "stdout",
       "text": [
        "['type', 'features']\n"
       ]
      }
     ],
     "prompt_number": 77
    },
    {
     "cell_type": "code",
     "collapsed": false,
     "input": [
      "with open(\"wwiitems.geojson\",\"w\") as fp:\n",
      "    json.dumps(h_dict,fp)"
     ],
     "language": "python",
     "metadata": {},
     "outputs": [],
     "prompt_number": 78
    },
    {
     "cell_type": "code",
     "collapsed": false,
     "input": [
      "h_dict[\"features\"][0]\n"
     ],
     "language": "python",
     "metadata": {},
     "outputs": [
      {
       "metadata": {},
       "output_type": "pyout",
       "prompt_number": 65,
       "text": [
        "{'geometry': {'coordinates': [54.6833, 25.3167], 'type': 'point'},\n",
        " 'properties': {'lang': u'Yiddish',\n",
        "  'title': u'\\u1e7een di \\u1e7fegn kraytsn zikh',\n",
        "  'year': u'1924'},\n",
        " 'type': 'Feature'}"
       ]
      }
     ],
     "prompt_number": 65
    },
    {
     "cell_type": "code",
     "collapsed": false,
     "input": [],
     "language": "python",
     "metadata": {},
     "outputs": []
    }
   ],
   "metadata": {}
  }
 ]
}