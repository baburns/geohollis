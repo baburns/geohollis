{
 "metadata": {
  "name": "",
  "signature": "sha256:eb6b0ac17bac2c875061dc683e832f5532a0559307c7bf65cf382ac1cb221e13"
 },
 "nbformat": 3,
 "nbformat_minor": 0,
 "worksheets": [
  {
   "cells": [
    {
     "cell_type": "code",
     "collapsed": false,
     "input": [
      "%matplotlib inline\n",
      "import numpy as np\n",
      "import matplotlib.pyplot as plt\n",
      "import pandas as pd\n",
      "import seaborn as sns\n",
      "pd.set_option('display.width', 500)\n",
      "pd.set_option('display.max_columns', 100)\n"
     ],
     "language": "python",
     "metadata": {},
     "outputs": [],
     "prompt_number": 1
    },
    {
     "cell_type": "code",
     "collapsed": false,
     "input": [
      "import requests\n",
      "from urllib import quote\n",
      "import json"
     ],
     "language": "python",
     "metadata": {},
     "outputs": [],
     "prompt_number": 2
    },
    {
     "cell_type": "code",
     "collapsed": false,
     "input": [
      "APISTART='http://hlslwebtest.law.harvard.edu/v1/api/geo_hollis?'\n",
      "h_dict={\"type\":\"FeatureCollection\",\"features\":[]}\n",
      "start=1\n",
      "reccount=250\n",
      "i=1"
     ],
     "language": "python",
     "metadata": {},
     "outputs": [],
     "prompt_number": 39
    },
    {
     "cell_type": "code",
     "collapsed": false,
     "input": [
      "while (start < reccount):\n",
      "    QUERY='filter=lcsh_keyword:World+War+1914-1918&filter=keyword:pub_location&limit=250&start=' + str(start)\n",
      "    hollisjson=requests.get(APISTART+QUERY).json()\n",
      "    if start==1:\n",
      "        reccount=hollisjson[\"num_found\"]\n",
      "        print reccount\n",
      "    for item in hollisjson[\"docs\"]:\n",
      "        if (item.has_key('title')):\n",
      "            title=item['title']\n",
      "            #print str(i)  + ' ' + title\n",
      "            #i=i+1\n",
      "        else:\n",
      "            title_item=['']\n",
      "        if (item.has_key('language')):\n",
      "            lang=item['language']\n",
      "        else:\n",
      "            lang=''\n",
      "        if (item.has_key('pub_date_numeric')):\n",
      "            yr=item['pub_date_numeric']\n",
      "        else:\n",
      "            yr=\"\"\n",
      "        if (item.has_key('Conjunct_Latitude1')):      \n",
      "            lat=float(item['Conjunct_Latitude1'])\n",
      "        if (item.has_key('Conjunct_Longitude1')):\n",
      "            lng=float(item['Conjunct_Longitude1'])\n",
      "        i_dict={\"type\":\"Feature\",\"geometry\":{\"type\":\"Point\",\"coordinates\":[lng,lat]},\"properties\":{\"title\":title,\"year\":yr,\"lang\":lang}}\n",
      "        h_dict[\"features\"].append(i_dict) \n",
      "    with open(\"wwiitems.geojson\",\"a\") as fp:\n",
      "        json.dump(h_dict, fp) \n",
      "    start=start+250\n",
      "\n",
      "    \n",
      "#h_geojson=json.JSONEncoder().encode(h_dict)\n"
     ],
     "language": "python",
     "metadata": {},
     "outputs": [
      {
       "output_type": "stream",
       "stream": "stdout",
       "text": [
        "3873\n"
       ]
      }
     ],
     "prompt_number": 40
    },
    {
     "cell_type": "code",
     "collapsed": false,
     "input": [
      "with open(\"wwiitems.geojson\",\"w\") as fp:\n",
      "    json.dump(h_dict, fp)"
     ],
     "language": "python",
     "metadata": {},
     "outputs": [],
     "prompt_number": 42
    },
    {
     "cell_type": "code",
     "collapsed": false,
     "input": [],
     "language": "python",
     "metadata": {},
     "outputs": []
    }
   ],
   "metadata": {}
  }
 ]
}