{
 "metadata": {
  "name": "",
  "signature": "sha256:5bf9ed8c37375b813ed4be98dff6c7c6c2b0a9987978efb15179399796af35d8"
 },
 "nbformat": 3,
 "nbformat_minor": 0,
 "worksheets": [
  {
   "cells": [
    {
     "cell_type": "code",
     "collapsed": false,
     "input": [
      "%matplotlib inline\n",
      "import numpy as np\n",
      "import matplotlib.pyplot as plt\n",
      "import pandas as pd\n",
      "import seaborn as sns\n",
      "pd.set_option('display.width', 500)\n",
      "pd.set_option('display.max_columns', 100)\n"
     ],
     "language": "python",
     "metadata": {},
     "outputs": [],
     "prompt_number": 1
    },
    {
     "cell_type": "code",
     "collapsed": false,
     "input": [
      "import requests\n",
      "from urllib import quote\n",
      "import json"
     ],
     "language": "python",
     "metadata": {},
     "outputs": [],
     "prompt_number": 2
    },
    {
     "cell_type": "code",
     "collapsed": false,
     "input": [
      "APISTART='http://hlslwebtest.law.harvard.edu/v1/api/geo_hollis?'\n",
      "QUERY='filter=lcsh_keyword:World+War+1914-1918&filter=keyword:pub_location&limit=250'\n",
      "hollisjson=requests.get(APISTART+QUERY).json()"
     ],
     "language": "python",
     "metadata": {},
     "outputs": [],
     "prompt_number": 36
    },
    {
     "cell_type": "code",
     "collapsed": false,
     "input": [
      "print hollisjson[\"docs\"][1][\"title_sort\"] "
     ],
     "language": "python",
     "metadata": {},
     "outputs": [
      {
       "output_type": "stream",
       "stream": "stdout",
       "text": [
        "\u0130stikl\u00e2l Harbi\n"
       ]
      }
     ],
     "prompt_number": 37
    },
    {
     "cell_type": "code",
     "collapsed": false,
     "input": [
      "print hollisjson[\"docs\"][0][\"pub_date_numeric\"]"
     ],
     "language": "python",
     "metadata": {},
     "outputs": [
      {
       "output_type": "stream",
       "stream": "stdout",
       "text": [
        "1924\n"
       ]
      }
     ],
     "prompt_number": 38
    },
    {
     "cell_type": "code",
     "collapsed": false,
     "input": [],
     "language": "python",
     "metadata": {},
     "outputs": [],
     "prompt_number": 38
    },
    {
     "cell_type": "code",
     "collapsed": false,
     "input": [
      "h_dict={\"type\":\"FeatureCollection\",\"features\":[]}\n",
      "for item in hollisjson[\"docs\"]:\n",
      "    title=item[\"title_sort\"]\n",
      "    lang=item[\"language\"]\n",
      "    if (item.has_key('pub_date_numeric')):\n",
      "        yr=item['pub_date_numeric']\n",
      "    else:\n",
      "        yr=\"\"\n",
      "    lat=float(item['Conjunct_Latitude1'])\n",
      "    lng=float(item['Conjunct_Longitude1'])\n",
      "    i_dict={\"type\":\"Feature\",\"geometry\":{\"type\":\"Point\",\"coordinates\":[lng,lat]},\"properties\":{\"title\":title,\"year\":yr,\"lang\":lang}}\n",
      "    h_dict[\"features\"].append(i_dict)\n",
      "    \n",
      "#h_geojson=json.JSONEncoder().encode(h_dict)\n"
     ],
     "language": "python",
     "metadata": {},
     "outputs": [],
     "prompt_number": 39
    },
    {
     "cell_type": "code",
     "collapsed": false,
     "input": [
      "print h_dict[\"features\"][0]"
     ],
     "language": "python",
     "metadata": {},
     "outputs": [
      {
       "output_type": "stream",
       "stream": "stdout",
       "text": [
        "{'geometry': {'type': 'Point', 'coordinates': [25.3167, 54.6833]}, 'type': 'Feature', 'properties': {'lang': u'Yiddish', 'year': u'1924', 'title': u'\\u1e7een di \\u1e7fegn kraytsn zikh'}}\n"
       ]
      }
     ],
     "prompt_number": 40
    },
    {
     "cell_type": "code",
     "collapsed": false,
     "input": [
      "with open(\"wwiitems.geojson\",\"w\") as fp:\n",
      "    json.dump(h_dict, fp)"
     ],
     "language": "python",
     "metadata": {},
     "outputs": [],
     "prompt_number": 42
    },
    {
     "cell_type": "code",
     "collapsed": false,
     "input": [],
     "language": "python",
     "metadata": {},
     "outputs": [],
     "prompt_number": 23
    },
    {
     "cell_type": "code",
     "collapsed": false,
     "input": [],
     "language": "python",
     "metadata": {},
     "outputs": []
    }
   ],
   "metadata": {}
  }
 ]
}