{
 "metadata": {
  "name": "",
  "signature": "sha256:48463eb549f77a689bd1ef497990f44a5537807d802e173ae3e4b38bdd7fe0ae"
 },
 "nbformat": 3,
 "nbformat_minor": 0,
 "worksheets": [
  {
   "cells": [
    {
     "cell_type": "code",
     "collapsed": false,
     "input": [
      "%matplotlib inline\n",
      "import numpy as np\n",
      "import matplotlib.pyplot as plt\n",
      "import pandas as pd\n",
      "import seaborn as sns\n",
      "pd.set_option('display.width', 500)\n",
      "pd.set_option('display.max_columns', 100)\n"
     ],
     "language": "python",
     "metadata": {},
     "outputs": [],
     "prompt_number": 1
    },
    {
     "cell_type": "code",
     "collapsed": false,
     "input": [
      "import requests\n",
      "from urllib import quote\n",
      "import json"
     ],
     "language": "python",
     "metadata": {},
     "outputs": [],
     "prompt_number": 2
    },
    {
     "cell_type": "code",
     "collapsed": false,
     "input": [
      "APISTART='http://hlslwebtest.law.harvard.edu/v1/api/geo_hollis?'\n",
      "h_dict={\"type\":\"FeatureCollection\",\"features\":[]}\n",
      "start=1\n",
      "reccount=250"
     ],
     "language": "python",
     "metadata": {},
     "outputs": [],
     "prompt_number": 19
    },
    {
     "cell_type": "code",
     "collapsed": false,
     "input": [
      "while (start < reccount):\n",
      "    QUERY='filter=lcsh_keyword:World+War+1914-1918&filter=keyword:pub_location&limit=250&start=' + str(start)\n",
      "    hollisjson=requests.get(APISTART+QUERY).json()\n",
      "    if start==1:\n",
      "        reccount=hollisjson[\"num_found\"]\n",
      "        print reccount\n",
      "    for item in hollisjson[\"docs\"]:\n",
      "        if (item.has_key('title_item')):\n",
      "            title=item[\"title_sort\"]\n",
      "        else:\n",
      "            title_item=['']\n",
      "        if (item.has_key('language')):\n",
      "            lang=item[\"language\"]\n",
      "        else:\n",
      "            lang=''\n",
      "        if (item.has_key('pub_date_numeric')):\n",
      "            yr=item['pub_date_numeric']\n",
      "        else:\n",
      "            yr=\"\"\n",
      "        if (item.has_key('Conjunct_Latitude1')):      \n",
      "            lat=float(item['Conjunct_Latitude1'])\n",
      "        if (item.has_key('Conjunct_Longitude1')):\n",
      "            lng=float(item['Conjunct_Longitude1'])\n",
      "        i_dict={\"type\":\"Feature\",\"geometry\":{\"type\":\"Point\",\"coordinates\":[lng,lat]},\"properties\":{\"title\":title,\"year\":yr,\"lang\":lang}}\n",
      "        h_dict[\"features\"].append(i_dict) \n",
      "    with open(\"wwiitems.geojson\",\"a\") as fp:\n",
      "        json.dump(h_dict, fp) \n",
      "    start=start+250\n",
      "    print \"getting records \" + str(start) + \" to \" + str(start+250) + \" of \" + str(reccount) \n",
      "\n",
      "    \n",
      "#h_geojson=json.JSONEncoder().encode(h_dict)\n"
     ],
     "language": "python",
     "metadata": {},
     "outputs": [
      {
       "output_type": "stream",
       "stream": "stdout",
       "text": [
        "3873\n",
        "getting records 251 to 501 of 3873\n",
        "getting records 501 to 751 of 3873"
       ]
      },
      {
       "output_type": "stream",
       "stream": "stdout",
       "text": [
        "\n",
        "getting records 751 to 1001 of 3873"
       ]
      },
      {
       "output_type": "stream",
       "stream": "stdout",
       "text": [
        "\n",
        "getting records 1001 to 1251 of 3873"
       ]
      },
      {
       "output_type": "stream",
       "stream": "stdout",
       "text": [
        "\n",
        "getting records 1251 to 1501 of 3873"
       ]
      },
      {
       "output_type": "stream",
       "stream": "stdout",
       "text": [
        "\n",
        "getting records 1501 to 1751 of 3873"
       ]
      },
      {
       "output_type": "stream",
       "stream": "stdout",
       "text": [
        "\n",
        "getting records 1751 to 2001 of 3873"
       ]
      },
      {
       "output_type": "stream",
       "stream": "stdout",
       "text": [
        "\n",
        "getting records 2001 to 2251 of 3873"
       ]
      },
      {
       "output_type": "stream",
       "stream": "stdout",
       "text": [
        "\n",
        "getting records 2251 to 2501 of 3873"
       ]
      },
      {
       "output_type": "stream",
       "stream": "stdout",
       "text": [
        "\n",
        "getting records 2501 to 2751 of 3873"
       ]
      },
      {
       "output_type": "stream",
       "stream": "stdout",
       "text": [
        "\n",
        "getting records 2751 to 3001 of 3873"
       ]
      },
      {
       "output_type": "stream",
       "stream": "stdout",
       "text": [
        "\n",
        "getting records 3001 to 3251 of 3873"
       ]
      },
      {
       "output_type": "stream",
       "stream": "stdout",
       "text": [
        "\n",
        "getting records 3251 to 3501 of 3873"
       ]
      },
      {
       "output_type": "stream",
       "stream": "stdout",
       "text": [
        "\n",
        "getting records 3501 to 3751 of 3873"
       ]
      },
      {
       "output_type": "stream",
       "stream": "stdout",
       "text": [
        "\n",
        "getting records 3751 to 4001 of 3873"
       ]
      },
      {
       "output_type": "stream",
       "stream": "stdout",
       "text": [
        "\n",
        "getting records 4001 to 4251 of 3873"
       ]
      },
      {
       "output_type": "stream",
       "stream": "stdout",
       "text": [
        "\n"
       ]
      }
     ],
     "prompt_number": 20
    },
    {
     "cell_type": "code",
     "collapsed": false,
     "input": [
      "with open(\"wwiitems.geojson\",\"w\") as fp:\n",
      "    json.dump(h_dict, fp)"
     ],
     "language": "python",
     "metadata": {},
     "outputs": [],
     "prompt_number": 42
    },
    {
     "cell_type": "code",
     "collapsed": false,
     "input": [],
     "language": "python",
     "metadata": {},
     "outputs": []
    }
   ],
   "metadata": {}
  }
 ]
}